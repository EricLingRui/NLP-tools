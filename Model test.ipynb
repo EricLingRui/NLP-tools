{
 "cells": [
  {
   "cell_type": "code",
   "execution_count": 1,
   "metadata": {},
   "outputs": [
    {
     "name": "stdout",
     "output_type": "stream",
     "text": [
      "The shape of BiLstm Layer output: (?, 2048)\n",
      "The shape of Output Layer: (?, 200, 84)\n"
     ]
    },
    {
     "name": "stderr",
     "output_type": "stream",
     "text": [
      "D:\\Python\\Anaconda3\\lib\\site-packages\\tensorflow\\python\\ops\\gradients_impl.py:96: UserWarning: Converting sparse IndexedSlices to a dense Tensor of unknown shape. This may consume a large amount of memory.\n",
      "  \"Converting sparse IndexedSlices to a dense Tensor of unknown shape. \"\n"
     ]
    },
    {
     "name": "stdout",
     "output_type": "stream",
     "text": [
      "INFO:tensorflow:Restoring parameters from D:/workspace/trsnlp/checkpoints/cws_pos_1107\\_plus-5\n"
     ]
    }
   ],
   "source": [
    "from cws.segmenter import BiLSTMSegmenter\n",
    "segmenter = BiLSTMSegmenter(data_path='D:/workspace/trsnlp/data/cws_pos/cws_pos_dict.pkl', model_path='D:/workspace/trsnlp/checkpoints/cws_pos_1107')"
   ]
  },
  {
   "cell_type": "code",
   "execution_count": 3,
   "metadata": {},
   "outputs": [
    {
     "name": "stdout",
     "output_type": "stream",
     "text": [
      "--label--: ['B_TIME', 'I_TIME', 'I_TIME', 'I_TIME', 'I_TIME', 'I_TIME', 'I_TIME', 'I_TIME', 'I_TIME', 'I_TIME', 'I_TIME', 'O_w', 'B_PER', 'I_PER', 'I_PER', 'O_v', 'O_p', 'B_nz', 'I_nz', 'I_nz', 'I_nz', 'I_nz', 'I_nz', 'I_nz', 'B_v', 'I_v', 'O_u', 'B_nz', 'I_nz', 'I_nz', 'I_nz', 'B_n', 'I_n', 'B_m', 'I_m', 'B_v', 'I_v', 'B_s', 'I_s', 'O_w', 'B_v', 'I_v', 'O_u', 'B_LOC', 'I_LOC', 'B_n', 'I_n', 'B_n', 'I_n', 'B_d', 'I_d', 'B_v', 'I_v', 'B_m', 'I_m', 'I_m', 'O_w', 'O_v', 'O_v', 'O_u', 'B_n', 'I_n', 'I_n', 'O_u', 'B_n', 'I_n', 'O_w']\n",
      "--result--: 2003年10月15日/TIME ，/w 杨利伟/PER 乘/v 由/p 长征二号F火箭/nz 运载/v 的/u 神舟五号/nz 飞船/n 首次/m 进入/v 太空/s ，/w 象征/v 着/u 中国/LOC 太空/n 事业/n 向前/d 迈进/v 一大步/m ，/w 起/v 到/v 了/u 里程碑/n 的/u 作用/n 。/w \n"
     ]
    },
    {
     "data": {
      "text/plain": [
       "'2003年10月15日/TIME ，/w 杨利伟/PER 乘/v 由/p 长征二号F火箭/nz 运载/v 的/u 神舟五号/nz 飞船/n 首次/m 进入/v 太空/s ，/w 象征/v 着/u 中国/LOC 太空/n 事业/n 向前/d 迈进/v 一大步/m ，/w 起/v 到/v 了/u 里程碑/n 的/u 作用/n 。/w '"
      ]
     },
     "execution_count": 3,
     "metadata": {},
     "output_type": "execute_result"
    }
   ],
   "source": [
    "segmenter.predict('2003年10月15日，杨利伟乘由长征二号F火箭运载的神舟五号飞船首次进入太空，象征着中国太空事业向前迈进一大步，起到了里程碑的作用。')"
   ]
  }
 ],
 "metadata": {
  "kernelspec": {
   "display_name": "Python 3",
   "language": "python",
   "name": "python3"
  },
  "language_info": {
   "codemirror_mode": {
    "name": "ipython",
    "version": 3
   },
   "file_extension": ".py",
   "mimetype": "text/x-python",
   "name": "python",
   "nbconvert_exporter": "python",
   "pygments_lexer": "ipython3",
   "version": "3.6.3"
  }
 },
 "nbformat": 4,
 "nbformat_minor": 2
}
